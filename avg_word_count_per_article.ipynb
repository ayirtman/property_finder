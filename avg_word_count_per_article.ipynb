{
 "cells": [
  {
   "cell_type": "code",
   "execution_count": 1,
   "metadata": {},
   "outputs": [
    {
     "name": "stdout",
     "output_type": "stream",
     "text": [
      "190.89772749123054\n",
      "             words_count\n",
      "category_id             \n",
      "0             168.000000\n",
      "1             198.506564\n",
      "2             184.016260\n",
      "3              12.000000\n",
      "4             160.804688\n",
      "...                  ...\n",
      "456           177.695652\n",
      "457           253.000000\n",
      "458           223.472511\n",
      "459           216.750000\n",
      "460           215.920000\n",
      "\n",
      "[461 rows x 1 columns]\n"
     ]
    }
   ],
   "source": [
    "import pandas as pd\n",
    "\n",
    "# importing dataset\n",
    "wordCount_DF = pd.read_csv(\"./articles_metadata.csv\")\n",
    "\n",
    "# Relevant columns are selected\n",
    "wordCount = wordCount_DF[['category_id','words_count']]\n",
    "\n",
    "# Calculating mean\n",
    "averageWordCount_perCategory = wordCount.groupby('category_id').mean()\n",
    "averageWordCount_perArticle = wordCount_DF['words_count'].mean()\n",
    "\n",
    "# Print values\n",
    "print(averageWordCount_perArticle)\n",
    "print(averageWordCount_perCategory)"
   ]
  },
  {
   "cell_type": "code",
   "execution_count": null,
   "metadata": {},
   "outputs": [],
   "source": []
  }
 ],
 "metadata": {
  "kernelspec": {
   "display_name": "Python 3",
   "language": "python",
   "name": "python3"
  },
  "language_info": {
   "codemirror_mode": {
    "name": "ipython",
    "version": 3
   },
   "file_extension": ".py",
   "mimetype": "text/x-python",
   "name": "python",
   "nbconvert_exporter": "python",
   "pygments_lexer": "ipython3",
   "version": "3.8.5"
  }
 },
 "nbformat": 4,
 "nbformat_minor": 4
}
