{
 "cells": [
  {
   "cell_type": "code",
   "execution_count": 1,
   "metadata": {},
   "outputs": [
    {
     "name": "stdout",
     "output_type": "stream",
     "text": [
      "1857053.7666666666\n",
      "13854099.5\n",
      "4338641.7\n",
      "7311012.433333334\n",
      "3171478.1\n",
      "6122716.833333333\n",
      "19781948.333333332\n",
      "979051.9666666667\n",
      "963251.4333333333\n",
      "4943391.8\n",
      "2612147.3\n",
      "608349.2\n",
      "799338.6333333333\n",
      "4699938.1\n",
      "2577329.3666666667\n",
      "420215.1\n",
      "1303273.8666666667\n",
      "1212269.6333333333\n",
      "566893.9666666667\n",
      "613034.7\n",
      "337321.5\n",
      "3114994.9\n",
      "693449.0333333333\n",
      "599350.3333333334\n",
      "374167.76666666666\n",
      "1755233.1666666667\n",
      "643282.7666666667\n",
      "2389394.0\n",
      "2575199.7\n",
      "471064.9\n",
      "730400.6\n",
      "957581.1333333333\n",
      "368674.26666666666\n",
      "666059.8333333334\n",
      "283697.0333333333\n",
      "703649.2666666667\n",
      "572264.6\n",
      "405014.3333333333\n",
      "334639.63333333336\n",
      "489453.76666666666\n",
      "252126.9\n",
      "417081.43333333335\n",
      "465756.9666666667\n",
      "3190420.4\n",
      "799681.5\n",
      "375686.1\n",
      "705707.0666666667\n",
      "293782.5\n",
      "1225066.9333333333\n",
      "574486.2333333333\n",
      "630772.6666666666\n",
      "352251.73333333334\n",
      "460906.3333333333\n",
      "637955.2666666667\n",
      "301968.0333333333\n",
      "11165403.7\n",
      "6193373.7\n",
      "400695.23333333334\n",
      "414810.5\n",
      "512333.8\n",
      "3237015.533333333\n",
      "456830.3\n"
     ]
    },
    {
     "name": "stderr",
     "output_type": "stream",
     "text": [
      "<ipython-input-1-63bda83f338e>:10: SettingWithCopyWarning: \n",
      "A value is trying to be set on a copy of a slice from a DataFrame.\n",
      "Try using .loc[row_indexer,col_indexer] = value instead\n",
      "\n",
      "See the caveats in the documentation: https://pandas.pydata.org/pandas-docs/stable/user_guide/indexing.html#returning-a-view-versus-a-copy\n",
      "  session_DF['time_spend'] = session_DF['click_timestamp'] - session_DF['session_start']\n"
     ]
    }
   ],
   "source": [
    "import pandas as pd\n",
    "\n",
    "# Import data set\n",
    "timeClick_DF = pd.read_csv(\"./clicks_sample.csv\")\n",
    "\n",
    "# Relevant columns are selected\n",
    "session_DF = timeClick_DF[['session_start','click_timestamp']]\n",
    "\n",
    "# Calculating avg time spend\n",
    "session_DF['time_spend'] = session_DF['click_timestamp'] - session_DF['session_start']\n",
    "\n",
    "total_sum = 0\n",
    "batch_size = 30\n",
    "\n",
    "iteration_size = len(timeClick_DF)//batch_size\n",
    "\n",
    "for i in range(iteration_size):\n",
    "    total_sum = 0\n",
    "    for j in range(batch_size):\n",
    "        total_sum += session_DF['time_spend'][i*batch_size+j]\n",
    "        \n",
    "    total_sum /= batch_size\n",
    "    # Print avg time click according to batch size\n",
    "    print(total_sum)"
   ]
  },
  {
   "cell_type": "code",
   "execution_count": null,
   "metadata": {},
   "outputs": [],
   "source": []
  }
 ],
 "metadata": {
  "kernelspec": {
   "display_name": "Python 3",
   "language": "python",
   "name": "python3"
  },
  "language_info": {
   "codemirror_mode": {
    "name": "ipython",
    "version": 3
   },
   "file_extension": ".py",
   "mimetype": "text/x-python",
   "name": "python",
   "nbconvert_exporter": "python",
   "pygments_lexer": "ipython3",
   "version": "3.8.5"
  }
 },
 "nbformat": 4,
 "nbformat_minor": 4
}
