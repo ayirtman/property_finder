{
 "cells": [
  {
   "cell_type": "code",
   "execution_count": null,
   "metadata": {},
   "outputs": [],
   "source": [
    "import pandas as pd\n",
    "\n",
    "# Import data set\n",
    "timeClick_DF = pd.read_csv(\"./clicks_sample.csv\")\n",
    "\n",
    "# Relevant columns are selected\n",
    "session_DF = timeClick_DF[['session_start','click_timestamp']]\n",
    "\n",
    "# Calculating avg time spend\n",
    "session_DF['time_spend'] = session_DF['click_timestamp'] - session_DF['session_start']\n",
    "\n",
    "total_sum = 0\n",
    "batch_size = 30\n",
    "\n",
    "iteration_size = len(timeClick_DF)//batch_size\n",
    "\n",
    "for i in range(iteration_size):\n",
    "    total_sum = 0\n",
    "    for j in range(batch_size):\n",
    "        total_sum += session_DF['time_spend'][i*batch_size+j]\n",
    "        \n",
    "    total_sum /= batch_size\n",
    "    \n",
    "    print(total_sum)"
   ]
  }
 ],
 "metadata": {
  "kernelspec": {
   "display_name": "Python 3",
   "language": "python",
   "name": "python3"
  },
  "language_info": {
   "codemirror_mode": {
    "name": "ipython",
    "version": 3
   },
   "file_extension": ".py",
   "mimetype": "text/x-python",
   "name": "python",
   "nbconvert_exporter": "python",
   "pygments_lexer": "ipython3",
   "version": "3.8.5"
  }
 },
 "nbformat": 4,
 "nbformat_minor": 4
}
