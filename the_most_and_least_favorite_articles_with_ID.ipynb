{
 "cells": [
  {
   "cell_type": "code",
   "execution_count": null,
   "metadata": {},
   "outputs": [],
   "source": [
    "import pandas as pd\n",
    "\n",
    "#importing dataset\n",
    "popular_article = pd.read_csv(\"./clicks_sample.csv\")\n",
    "\n",
    "#selecting article ID column\n",
    "articleID = popular_article['click_article_id']\n",
    "\n",
    "array = []\n",
    "batch_size = 30\n",
    "\n",
    "iteration_size = len(articleID)//batch_size\n",
    "\n",
    "#iterating articles with batch size. \n",
    "#Throughout iterating function prints the most and the least \n",
    "for i in range(iteration_size):\n",
    "    array = []\n",
    "    for j in range(batch_size):\n",
    "        array.append(articleID[i*batch_size+j])\n",
    "        arrayCountValue = pd.Series(array)\n",
    "    \n",
    "    most_favorite_article_ID = arrayCountValue.value_counts().head(1)\n",
    "    least_favorite_article_ID = arrayCountValue.value_counts().tail(1)\n",
    "    \n",
    "    print([most_favorite_article_ID, least_favorite_article_ID])"
   ]
  }
 ],
 "metadata": {
  "kernelspec": {
   "display_name": "Python 3",
   "language": "python",
   "name": "python3"
  },
  "language_info": {
   "codemirror_mode": {
    "name": "ipython",
    "version": 3
   },
   "file_extension": ".py",
   "mimetype": "text/x-python",
   "name": "python",
   "nbconvert_exporter": "python",
   "pygments_lexer": "ipython3",
   "version": "3.8.5"
  }
 },
 "nbformat": 4,
 "nbformat_minor": 4
}
